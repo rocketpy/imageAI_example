{
 "cells": [
  {
   "cell_type": "code",
   "execution_count": 4,
   "metadata": {},
   "outputs": [],
   "source": [
    "from imageai.Detection import ObjectDetection  # class for detect an object\n",
    "import os\n",
    "\n",
    "\n",
    "execution_path = os.getcwd()  # path to net(RetinaNet)\n",
    "\n",
    "detector = ObjectDetection()  # create object , based on a class\n",
    "\n",
    "detector.setModelTypeAsYOLOv3()  # or AsYOLOv3 , or AsRetinaNet\n",
    "\n",
    "detector.setModelPath( os.path.join(execution_path , \"yolo.h5\"))  # ili \"yolo.h5\"\n",
    "\n",
    "detector.loadModel()  # load a model\n",
    "\n",
    "list_detections = detector.detectObjectsFromImage(input_image=os.path.join(execution_path , \"image.jpg\"), output_image_path=os.path.join(execution_path , \"imagenew.jpg\"), minimum_percentage_probability=30, display_percentage_probability=False, display_object_name=True)\n"
   ]
  },
  {
   "cell_type": "code",
   "execution_count": null,
   "metadata": {},
   "outputs": [],
   "source": []
  }
 ],
 "metadata": {
  "kernelspec": {
   "display_name": "Python 3",
   "language": "python",
   "name": "python3"
  },
  "language_info": {
   "codemirror_mode": {
    "name": "ipython",
    "version": 3
   },
   "file_extension": ".py",
   "mimetype": "text/x-python",
   "name": "python",
   "nbconvert_exporter": "python",
   "pygments_lexer": "ipython3",
   "version": "3.6.2"
  }
 },
 "nbformat": 4,
 "nbformat_minor": 2
}
