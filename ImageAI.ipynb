{
 "cells": [
  {
   "cell_type": "code",
   "execution_count": 4,
   "metadata": {},
   "outputs": [],
   "source": [
    "from imageai.Detection import ObjectDetection  # klass dlya obnaruzheniya objektov\n",
    "import os\n",
    "\n",
    "\n",
    "execution_path = os.getcwd()  # put' k neyro-seti(RetinaNet)\n",
    "\n",
    "detector = ObjectDetection()  # sozdali objekt na osnove klassa\n",
    "\n",
    "detector.setModelTypeAsYOLOv3()  # ili AsYOLOv3 , ili AsRetinaNet\n",
    "\n",
    "detector.setModelPath( os.path.join(execution_path , \"yolo.h5\"))  # ili \"yolo.h5\"\n",
    "\n",
    "detector.loadModel()  # podgruzili model seti\n",
    "\n",
    "list_detections = detector.detectObjectsFromImage(input_image=os.path.join(execution_path , \"image.jpg\"), output_image_path=os.path.join(execution_path , \"imagenew.jpg\"), minimum_percentage_probability=30, display_percentage_probability=False, display_object_name=True)\n"
   ]
  },
  {
   "cell_type": "code",
   "execution_count": null,
   "metadata": {},
   "outputs": [],
   "source": []
  }
 ],
 "metadata": {
  "kernelspec": {
   "display_name": "Python 3",
   "language": "python",
   "name": "python3"
  },
  "language_info": {
   "codemirror_mode": {
    "name": "ipython",
    "version": 3
   },
   "file_extension": ".py",
   "mimetype": "text/x-python",
   "name": "python",
   "nbconvert_exporter": "python",
   "pygments_lexer": "ipython3",
   "version": "3.6.2"
  }
 },
 "nbformat": 4,
 "nbformat_minor": 2
}
